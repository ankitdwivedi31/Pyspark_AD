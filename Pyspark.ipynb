{
 "cells": [
  {
   "cell_type": "code",
   "execution_count": null,
   "id": "68103ea2",
   "metadata": {},
   "outputs": [],
   "source": [
    "#one can log in databricks and can handle big data using pyspark"
   ]
  },
  {
   "cell_type": "code",
   "execution_count": 211,
   "id": "7468f60d",
   "metadata": {
    "scrolled": true
   },
   "outputs": [
    {
     "name": "stdout",
     "output_type": "stream",
     "text": [
      "Requirement already satisfied: pyspark==3.2.2 in c:\\users\\hp\\anaconda3\\lib\\site-packages (3.2.2)\n",
      "Requirement already satisfied: py4j==0.10.9.5 in c:\\users\\hp\\anaconda3\\lib\\site-packages (from pyspark==3.2.2) (0.10.9.5)\n"
     ]
    }
   ],
   "source": [
    "!pip install pyspark==3.2.2"
   ]
  },
  {
   "cell_type": "code",
   "execution_count": 212,
   "id": "6fc84ed4",
   "metadata": {},
   "outputs": [],
   "source": [
    "import pyspark\n"
   ]
  },
  {
   "cell_type": "code",
   "execution_count": 213,
   "id": "88c13c6a",
   "metadata": {},
   "outputs": [],
   "source": [
    "import pandas as pd"
   ]
  },
  {
   "cell_type": "code",
   "execution_count": 214,
   "id": "f09da096",
   "metadata": {
    "scrolled": true
   },
   "outputs": [
    {
     "data": {
      "text/html": [
       "<div>\n",
       "<style scoped>\n",
       "    .dataframe tbody tr th:only-of-type {\n",
       "        vertical-align: middle;\n",
       "    }\n",
       "\n",
       "    .dataframe tbody tr th {\n",
       "        vertical-align: top;\n",
       "    }\n",
       "\n",
       "    .dataframe thead th {\n",
       "        text-align: right;\n",
       "    }\n",
       "</style>\n",
       "<table border=\"1\" class=\"dataframe\">\n",
       "  <thead>\n",
       "    <tr style=\"text-align: right;\">\n",
       "      <th></th>\n",
       "      <th>employee_id</th>\n",
       "      <th>gender</th>\n",
       "      <th>no_of_trainings</th>\n",
       "      <th>age</th>\n",
       "      <th>length_of_service</th>\n",
       "      <th>avg_training_score</th>\n",
       "    </tr>\n",
       "  </thead>\n",
       "  <tbody>\n",
       "    <tr>\n",
       "      <th>0</th>\n",
       "      <td>65438.0</td>\n",
       "      <td>f</td>\n",
       "      <td>1.0</td>\n",
       "      <td>35.0</td>\n",
       "      <td>8.0</td>\n",
       "      <td>49.0</td>\n",
       "    </tr>\n",
       "    <tr>\n",
       "      <th>1</th>\n",
       "      <td>65141.0</td>\n",
       "      <td>m</td>\n",
       "      <td>1.0</td>\n",
       "      <td>30.0</td>\n",
       "      <td>4.0</td>\n",
       "      <td>60.0</td>\n",
       "    </tr>\n",
       "    <tr>\n",
       "      <th>2</th>\n",
       "      <td>7513.0</td>\n",
       "      <td>m</td>\n",
       "      <td>1.0</td>\n",
       "      <td>34.0</td>\n",
       "      <td>7.0</td>\n",
       "      <td>50.0</td>\n",
       "    </tr>\n",
       "    <tr>\n",
       "      <th>3</th>\n",
       "      <td>2542.0</td>\n",
       "      <td>m</td>\n",
       "      <td>2.0</td>\n",
       "      <td>39.0</td>\n",
       "      <td>10.0</td>\n",
       "      <td>50.0</td>\n",
       "    </tr>\n",
       "    <tr>\n",
       "      <th>4</th>\n",
       "      <td>48945.0</td>\n",
       "      <td>m</td>\n",
       "      <td>1.0</td>\n",
       "      <td>45.0</td>\n",
       "      <td>2.0</td>\n",
       "      <td>73.0</td>\n",
       "    </tr>\n",
       "    <tr>\n",
       "      <th>5</th>\n",
       "      <td>58896.0</td>\n",
       "      <td>m</td>\n",
       "      <td>2.0</td>\n",
       "      <td>31.0</td>\n",
       "      <td>7.0</td>\n",
       "      <td>85.0</td>\n",
       "    </tr>\n",
       "    <tr>\n",
       "      <th>6</th>\n",
       "      <td>20379.0</td>\n",
       "      <td>f</td>\n",
       "      <td>1.0</td>\n",
       "      <td>NaN</td>\n",
       "      <td>5.0</td>\n",
       "      <td>59.0</td>\n",
       "    </tr>\n",
       "    <tr>\n",
       "      <th>7</th>\n",
       "      <td>16290.0</td>\n",
       "      <td>m</td>\n",
       "      <td>1.0</td>\n",
       "      <td>33.0</td>\n",
       "      <td>6.0</td>\n",
       "      <td>63.0</td>\n",
       "    </tr>\n",
       "    <tr>\n",
       "      <th>8</th>\n",
       "      <td>73202.0</td>\n",
       "      <td>m</td>\n",
       "      <td>1.0</td>\n",
       "      <td>28.0</td>\n",
       "      <td>5.0</td>\n",
       "      <td>83.0</td>\n",
       "    </tr>\n",
       "    <tr>\n",
       "      <th>9</th>\n",
       "      <td>28911.0</td>\n",
       "      <td>m</td>\n",
       "      <td>1.0</td>\n",
       "      <td>32.0</td>\n",
       "      <td>5.0</td>\n",
       "      <td>54.0</td>\n",
       "    </tr>\n",
       "    <tr>\n",
       "      <th>10</th>\n",
       "      <td>29934.0</td>\n",
       "      <td>m</td>\n",
       "      <td>1.0</td>\n",
       "      <td>30.0</td>\n",
       "      <td>1.0</td>\n",
       "      <td>77.0</td>\n",
       "    </tr>\n",
       "    <tr>\n",
       "      <th>11</th>\n",
       "      <td>49017.0</td>\n",
       "      <td>f</td>\n",
       "      <td>1.0</td>\n",
       "      <td>35.0</td>\n",
       "      <td>NaN</td>\n",
       "      <td>50.0</td>\n",
       "    </tr>\n",
       "    <tr>\n",
       "      <th>12</th>\n",
       "      <td>NaN</td>\n",
       "      <td>NaN</td>\n",
       "      <td>1.0</td>\n",
       "      <td>49.0</td>\n",
       "      <td>5.0</td>\n",
       "      <td>49.0</td>\n",
       "    </tr>\n",
       "    <tr>\n",
       "      <th>13</th>\n",
       "      <td>38401.0</td>\n",
       "      <td>m</td>\n",
       "      <td>2.0</td>\n",
       "      <td>39.0</td>\n",
       "      <td>16.0</td>\n",
       "      <td>NaN</td>\n",
       "    </tr>\n",
       "    <tr>\n",
       "      <th>14</th>\n",
       "      <td>77040.0</td>\n",
       "      <td>m</td>\n",
       "      <td>1.0</td>\n",
       "      <td>37.0</td>\n",
       "      <td>7.0</td>\n",
       "      <td>84.0</td>\n",
       "    </tr>\n",
       "    <tr>\n",
       "      <th>15</th>\n",
       "      <td>43931.0</td>\n",
       "      <td>m</td>\n",
       "      <td>1.0</td>\n",
       "      <td>37.0</td>\n",
       "      <td>10.0</td>\n",
       "      <td>60.0</td>\n",
       "    </tr>\n",
       "    <tr>\n",
       "      <th>16</th>\n",
       "      <td>7152.0</td>\n",
       "      <td>m</td>\n",
       "      <td>NaN</td>\n",
       "      <td>38.0</td>\n",
       "      <td>5.0</td>\n",
       "      <td>77.0</td>\n",
       "    </tr>\n",
       "    <tr>\n",
       "      <th>17</th>\n",
       "      <td>9403.0</td>\n",
       "      <td>m</td>\n",
       "      <td>1.0</td>\n",
       "      <td>34.0</td>\n",
       "      <td>4.0</td>\n",
       "      <td>51.0</td>\n",
       "    </tr>\n",
       "    <tr>\n",
       "      <th>18</th>\n",
       "      <td>17436.0</td>\n",
       "      <td>m</td>\n",
       "      <td>1.0</td>\n",
       "      <td>34.0</td>\n",
       "      <td>8.0</td>\n",
       "      <td>46.0</td>\n",
       "    </tr>\n",
       "  </tbody>\n",
       "</table>\n",
       "</div>"
      ],
      "text/plain": [
       "    employee_id gender  no_of_trainings   age  length_of_service  \\\n",
       "0       65438.0      f              1.0  35.0                8.0   \n",
       "1       65141.0      m              1.0  30.0                4.0   \n",
       "2        7513.0      m              1.0  34.0                7.0   \n",
       "3        2542.0      m              2.0  39.0               10.0   \n",
       "4       48945.0      m              1.0  45.0                2.0   \n",
       "5       58896.0      m              2.0  31.0                7.0   \n",
       "6       20379.0      f              1.0   NaN                5.0   \n",
       "7       16290.0      m              1.0  33.0                6.0   \n",
       "8       73202.0      m              1.0  28.0                5.0   \n",
       "9       28911.0      m              1.0  32.0                5.0   \n",
       "10      29934.0      m              1.0  30.0                1.0   \n",
       "11      49017.0      f              1.0  35.0                NaN   \n",
       "12          NaN    NaN              1.0  49.0                5.0   \n",
       "13      38401.0      m              2.0  39.0               16.0   \n",
       "14      77040.0      m              1.0  37.0                7.0   \n",
       "15      43931.0      m              1.0  37.0               10.0   \n",
       "16       7152.0      m              NaN  38.0                5.0   \n",
       "17       9403.0      m              1.0  34.0                4.0   \n",
       "18      17436.0      m              1.0  34.0                8.0   \n",
       "\n",
       "    avg_training_score  \n",
       "0                 49.0  \n",
       "1                 60.0  \n",
       "2                 50.0  \n",
       "3                 50.0  \n",
       "4                 73.0  \n",
       "5                 85.0  \n",
       "6                 59.0  \n",
       "7                 63.0  \n",
       "8                 83.0  \n",
       "9                 54.0  \n",
       "10                77.0  \n",
       "11                50.0  \n",
       "12                49.0  \n",
       "13                 NaN  \n",
       "14                84.0  \n",
       "15                60.0  \n",
       "16                77.0  \n",
       "17                51.0  \n",
       "18                46.0  "
      ]
     },
     "execution_count": 214,
     "metadata": {},
     "output_type": "execute_result"
    }
   ],
   "source": [
    "pd.read_csv('prom.csv')"
   ]
  },
  {
   "cell_type": "code",
   "execution_count": 215,
   "id": "ee35b0ee",
   "metadata": {},
   "outputs": [],
   "source": [
    "from pyspark.sql import SparkSession"
   ]
  },
  {
   "cell_type": "code",
   "execution_count": 216,
   "id": "2eb5fa88",
   "metadata": {},
   "outputs": [],
   "source": [
    "#spark = SparkSession.builder.config('spark.port.maxRetries', 100).getOrCreate()"
   ]
  },
  {
   "cell_type": "code",
   "execution_count": 217,
   "id": "6a3476ea",
   "metadata": {},
   "outputs": [
    {
     "data": {
      "text/html": [
       "\n",
       "            <div>\n",
       "                <p><b>SparkSession - in-memory</b></p>\n",
       "                \n",
       "        <div>\n",
       "            <p><b>SparkContext</b></p>\n",
       "\n",
       "            <p><a href=\"http://AnkitD:4042\">Spark UI</a></p>\n",
       "\n",
       "            <dl>\n",
       "              <dt>Version</dt>\n",
       "                <dd><code>v3.2.2</code></dd>\n",
       "              <dt>Master</dt>\n",
       "                <dd><code>local[*]</code></dd>\n",
       "              <dt>AppName</dt>\n",
       "                <dd><code>pyspark-shell</code></dd>\n",
       "            </dl>\n",
       "        </div>\n",
       "        \n",
       "            </div>\n",
       "        "
      ],
      "text/plain": [
       "<pyspark.sql.session.SparkSession at 0x18613a68250>"
      ]
     },
     "execution_count": 217,
     "metadata": {},
     "output_type": "execute_result"
    }
   ],
   "source": [
    "SparkSession.builder.appName('practise').getOrCreate()"
   ]
  },
  {
   "cell_type": "code",
   "execution_count": 218,
   "id": "3c53399e",
   "metadata": {},
   "outputs": [
    {
     "data": {
      "text/html": [
       "\n",
       "            <div>\n",
       "                <p><b>SparkSession - in-memory</b></p>\n",
       "                \n",
       "        <div>\n",
       "            <p><b>SparkContext</b></p>\n",
       "\n",
       "            <p><a href=\"http://AnkitD:4042\">Spark UI</a></p>\n",
       "\n",
       "            <dl>\n",
       "              <dt>Version</dt>\n",
       "                <dd><code>v3.2.2</code></dd>\n",
       "              <dt>Master</dt>\n",
       "                <dd><code>local[*]</code></dd>\n",
       "              <dt>AppName</dt>\n",
       "                <dd><code>pyspark-shell</code></dd>\n",
       "            </dl>\n",
       "        </div>\n",
       "        \n",
       "            </div>\n",
       "        "
      ],
      "text/plain": [
       "<pyspark.sql.session.SparkSession at 0x18613a68250>"
      ]
     },
     "execution_count": 218,
     "metadata": {},
     "output_type": "execute_result"
    }
   ],
   "source": [
    "spark"
   ]
  },
  {
   "cell_type": "code",
   "execution_count": 219,
   "id": "92de638f",
   "metadata": {},
   "outputs": [],
   "source": [
    "#df_spark = spark.read.csv('prom.csv')"
   ]
  },
  {
   "cell_type": "code",
   "execution_count": 220,
   "id": "2bfe5d9c",
   "metadata": {},
   "outputs": [],
   "source": [
    "#df_spark"
   ]
  },
  {
   "cell_type": "code",
   "execution_count": 221,
   "id": "bd231adf",
   "metadata": {},
   "outputs": [],
   "source": [
    "#df_pyspark=spark.read.option('header', 'true').csv('prom.csv')"
   ]
  },
  {
   "cell_type": "code",
   "execution_count": 222,
   "id": "9df45f98",
   "metadata": {},
   "outputs": [],
   "source": [
    "#df_pyspark.show()"
   ]
  },
  {
   "cell_type": "code",
   "execution_count": 223,
   "id": "fb1f1956",
   "metadata": {},
   "outputs": [],
   "source": [
    "#type(df_pyspark)"
   ]
  },
  {
   "cell_type": "code",
   "execution_count": 224,
   "id": "fcf53a90",
   "metadata": {},
   "outputs": [],
   "source": [
    "## check the schema\n",
    "#df_pyspark.printSchema()"
   ]
  },
  {
   "cell_type": "code",
   "execution_count": 225,
   "id": "13aac574",
   "metadata": {},
   "outputs": [],
   "source": [
    "## Use of Inferschema() while reading the file to infer the actual data type as bydefault its a string.\n",
    "\n",
    "df_pyspark=spark.read.option('header', 'true').csv('prom.csv', inferSchema=True)\n"
   ]
  },
  {
   "cell_type": "code",
   "execution_count": 226,
   "id": "9f139051",
   "metadata": {},
   "outputs": [
    {
     "name": "stdout",
     "output_type": "stream",
     "text": [
      "root\n",
      " |-- employee_id: integer (nullable = true)\n",
      " |-- gender: string (nullable = true)\n",
      " |-- no_of_trainings: integer (nullable = true)\n",
      " |-- age: integer (nullable = true)\n",
      " |-- length_of_service: integer (nullable = true)\n",
      " |-- avg_training_score: integer (nullable = true)\n",
      "\n"
     ]
    }
   ],
   "source": [
    "df_pyspark.printSchema()\n"
   ]
  },
  {
   "cell_type": "code",
   "execution_count": 227,
   "id": "3684d17f",
   "metadata": {
    "scrolled": true
   },
   "outputs": [
    {
     "name": "stdout",
     "output_type": "stream",
     "text": [
      "+-----------+------+---------------+----+-----------------+------------------+\n",
      "|employee_id|gender|no_of_trainings| age|length_of_service|avg_training_score|\n",
      "+-----------+------+---------------+----+-----------------+------------------+\n",
      "|      65438|     f|              1|  35|                8|                49|\n",
      "|      65141|     m|              1|  30|                4|                60|\n",
      "|       7513|     m|              1|  34|                7|                50|\n",
      "|       2542|     m|              2|  39|               10|                50|\n",
      "|      48945|     m|              1|  45|                2|                73|\n",
      "|      58896|     m|              2|  31|                7|                85|\n",
      "|      20379|     f|              1|null|                5|                59|\n",
      "|      16290|     m|              1|  33|                6|                63|\n",
      "|      73202|     m|              1|  28|                5|                83|\n",
      "|      28911|     m|              1|  32|                5|                54|\n",
      "|      29934|     m|              1|  30|                1|                77|\n",
      "|      49017|     f|              1|  35|             null|                50|\n",
      "|       null|  null|              1|  49|                5|                49|\n",
      "|      38401|     m|              2|  39|               16|              null|\n",
      "|      77040|     m|              1|  37|                7|                84|\n",
      "|      43931|     m|              1|  37|               10|                60|\n",
      "|       7152|     m|           null|  38|                5|                77|\n",
      "|       9403|     m|              1|  34|                4|                51|\n",
      "|      17436|     m|              1|  34|                8|                46|\n",
      "+-----------+------+---------------+----+-----------------+------------------+\n",
      "\n"
     ]
    }
   ],
   "source": [
    "##Loading file\n",
    "\n",
    "df_pyspark=spark.read.csv('prom.csv', header=True, inferSchema=True)\n",
    "df_pyspark.show()"
   ]
  },
  {
   "cell_type": "code",
   "execution_count": 228,
   "id": "96741035",
   "metadata": {
    "scrolled": true
   },
   "outputs": [
    {
     "data": {
      "text/plain": [
       "['employee_id',\n",
       " 'gender',\n",
       " 'no_of_trainings',\n",
       " 'age',\n",
       " 'length_of_service',\n",
       " 'avg_training_score']"
      ]
     },
     "execution_count": 228,
     "metadata": {},
     "output_type": "execute_result"
    }
   ],
   "source": [
    "df_pyspark.columns"
   ]
  },
  {
   "cell_type": "markdown",
   "id": "33113f70",
   "metadata": {},
   "source": [
    "# Basic Table Operations in \"pyspark\""
   ]
  },
  {
   "cell_type": "code",
   "execution_count": 229,
   "id": "c91af306",
   "metadata": {
    "scrolled": true
   },
   "outputs": [
    {
     "name": "stdout",
     "output_type": "stream",
     "text": [
      "+----+\n",
      "| age|\n",
      "+----+\n",
      "|  35|\n",
      "|  30|\n",
      "|  34|\n",
      "|  39|\n",
      "|  45|\n",
      "|  31|\n",
      "|null|\n",
      "|  33|\n",
      "|  28|\n",
      "|  32|\n",
      "|  30|\n",
      "|  35|\n",
      "|  49|\n",
      "|  39|\n",
      "|  37|\n",
      "|  37|\n",
      "|  38|\n",
      "|  34|\n",
      "|  34|\n",
      "+----+\n",
      "\n"
     ]
    }
   ],
   "source": [
    "## To show one column\n",
    "df_pyspark.select('age').show()"
   ]
  },
  {
   "cell_type": "code",
   "execution_count": 230,
   "id": "06471e76",
   "metadata": {
    "scrolled": true
   },
   "outputs": [
    {
     "name": "stdout",
     "output_type": "stream",
     "text": [
      "+----+------+\n",
      "| age|gender|\n",
      "+----+------+\n",
      "|  35|     f|\n",
      "|  30|     m|\n",
      "|  34|     m|\n",
      "|  39|     m|\n",
      "|  45|     m|\n",
      "|  31|     m|\n",
      "|null|     f|\n",
      "|  33|     m|\n",
      "|  28|     m|\n",
      "|  32|     m|\n",
      "|  30|     m|\n",
      "|  35|     f|\n",
      "|  49|  null|\n",
      "|  39|     m|\n",
      "|  37|     m|\n",
      "|  37|     m|\n",
      "|  38|     m|\n",
      "|  34|     m|\n",
      "|  34|     m|\n",
      "+----+------+\n",
      "\n"
     ]
    }
   ],
   "source": [
    "## To show multiple columns\n",
    "df_pyspark.select('age','gender').show()"
   ]
  },
  {
   "cell_type": "code",
   "execution_count": 231,
   "id": "85ef8267",
   "metadata": {},
   "outputs": [
    {
     "data": {
      "text/plain": [
       "[('employee_id', 'int'),\n",
       " ('gender', 'string'),\n",
       " ('no_of_trainings', 'int'),\n",
       " ('age', 'int'),\n",
       " ('length_of_service', 'int'),\n",
       " ('avg_training_score', 'int')]"
      ]
     },
     "execution_count": 231,
     "metadata": {},
     "output_type": "execute_result"
    }
   ],
   "source": [
    "df_pyspark.dtypes"
   ]
  },
  {
   "cell_type": "code",
   "execution_count": 232,
   "id": "09322298",
   "metadata": {
    "scrolled": true
   },
   "outputs": [
    {
     "name": "stdout",
     "output_type": "stream",
     "text": [
      "+-------+------------------+------+------------------+-----------------+------------------+------------------+\n",
      "|summary|       employee_id|gender|   no_of_trainings|              age| length_of_service|avg_training_score|\n",
      "+-------+------------------+------+------------------+-----------------+------------------+------------------+\n",
      "|  count|                18|    18|                18|               18|                18|                18|\n",
      "|   mean|36642.833333333336|  null|1.1666666666666667|35.55555555555556| 6.388888888888889| 62.22222222222222|\n",
      "| stddev| 24544.38974652684|  null|0.3834824944236852|5.260532540948596|3.3805479696586764|13.833274273438775|\n",
      "|    min|              2542|     f|                 1|               28|                 1|                46|\n",
      "|    max|             77040|     m|                 2|               49|                16|                85|\n",
      "+-------+------------------+------+------------------+-----------------+------------------+------------------+\n",
      "\n"
     ]
    }
   ],
   "source": [
    "df_pyspark.describe().show()"
   ]
  },
  {
   "cell_type": "code",
   "execution_count": 233,
   "id": "b9b66701",
   "metadata": {
    "scrolled": true
   },
   "outputs": [
    {
     "name": "stdout",
     "output_type": "stream",
     "text": [
      "+-----------+------+---------------+----+-----------------+------------------+-----+\n",
      "|employee_id|gender|no_of_trainings| age|length_of_service|avg_training_score|LOS+2|\n",
      "+-----------+------+---------------+----+-----------------+------------------+-----+\n",
      "|      65438|     f|              1|  35|                8|                49|   10|\n",
      "|      65141|     m|              1|  30|                4|                60|    6|\n",
      "|       7513|     m|              1|  34|                7|                50|    9|\n",
      "|       2542|     m|              2|  39|               10|                50|   12|\n",
      "|      48945|     m|              1|  45|                2|                73|    4|\n",
      "|      58896|     m|              2|  31|                7|                85|    9|\n",
      "|      20379|     f|              1|null|                5|                59|    7|\n",
      "|      16290|     m|              1|  33|                6|                63|    8|\n",
      "|      73202|     m|              1|  28|                5|                83|    7|\n",
      "|      28911|     m|              1|  32|                5|                54|    7|\n",
      "|      29934|     m|              1|  30|                1|                77|    3|\n",
      "|      49017|     f|              1|  35|             null|                50| null|\n",
      "|       null|  null|              1|  49|                5|                49|    7|\n",
      "|      38401|     m|              2|  39|               16|              null|   18|\n",
      "|      77040|     m|              1|  37|                7|                84|    9|\n",
      "|      43931|     m|              1|  37|               10|                60|   12|\n",
      "|       7152|     m|           null|  38|                5|                77|    7|\n",
      "|       9403|     m|              1|  34|                4|                51|    6|\n",
      "|      17436|     m|              1|  34|                8|                46|   10|\n",
      "+-----------+------+---------------+----+-----------------+------------------+-----+\n",
      "\n"
     ]
    }
   ],
   "source": [
    "##Adding column in dataframe\n",
    "df_pyspark.withColumn('LOS+2', df_pyspark['length_of_service']+2).show()"
   ]
  },
  {
   "cell_type": "code",
   "execution_count": 234,
   "id": "c81a5057",
   "metadata": {},
   "outputs": [],
   "source": [
    "#Drop the coulumn\n",
    "df_pyspark=df_pyspark.drop('LOS+2')"
   ]
  },
  {
   "cell_type": "code",
   "execution_count": 235,
   "id": "77719509",
   "metadata": {
    "scrolled": true
   },
   "outputs": [
    {
     "name": "stdout",
     "output_type": "stream",
     "text": [
      "+-----------+------+---------------+----+-----------------+------------------+\n",
      "|employee_id|gender|no_of_trainings| age|length_of_service|avg_training_score|\n",
      "+-----------+------+---------------+----+-----------------+------------------+\n",
      "|      65438|     f|              1|  35|                8|                49|\n",
      "|      65141|     m|              1|  30|                4|                60|\n",
      "|       7513|     m|              1|  34|                7|                50|\n",
      "|       2542|     m|              2|  39|               10|                50|\n",
      "|      48945|     m|              1|  45|                2|                73|\n",
      "|      58896|     m|              2|  31|                7|                85|\n",
      "|      20379|     f|              1|null|                5|                59|\n",
      "|      16290|     m|              1|  33|                6|                63|\n",
      "|      73202|     m|              1|  28|                5|                83|\n",
      "|      28911|     m|              1|  32|                5|                54|\n",
      "|      29934|     m|              1|  30|                1|                77|\n",
      "|      49017|     f|              1|  35|             null|                50|\n",
      "|       null|  null|              1|  49|                5|                49|\n",
      "|      38401|     m|              2|  39|               16|              null|\n",
      "|      77040|     m|              1|  37|                7|                84|\n",
      "|      43931|     m|              1|  37|               10|                60|\n",
      "|       7152|     m|           null|  38|                5|                77|\n",
      "|       9403|     m|              1|  34|                4|                51|\n",
      "|      17436|     m|              1|  34|                8|                46|\n",
      "+-----------+------+---------------+----+-----------------+------------------+\n",
      "\n"
     ]
    }
   ],
   "source": [
    "df_pyspark.show()"
   ]
  },
  {
   "cell_type": "code",
   "execution_count": 236,
   "id": "bd8c82f2",
   "metadata": {},
   "outputs": [],
   "source": [
    "#rename the column\n",
    "df_pyspark=df_pyspark.withColumnRenamed('age', 'New_age')"
   ]
  },
  {
   "cell_type": "code",
   "execution_count": 237,
   "id": "db838cb6",
   "metadata": {},
   "outputs": [
    {
     "name": "stdout",
     "output_type": "stream",
     "text": [
      "+-----------+------+---------------+-------+-----------------+------------------+\n",
      "|employee_id|gender|no_of_trainings|New_age|length_of_service|avg_training_score|\n",
      "+-----------+------+---------------+-------+-----------------+------------------+\n",
      "|      65438|     f|              1|     35|                8|                49|\n",
      "|      65141|     m|              1|     30|                4|                60|\n",
      "|       7513|     m|              1|     34|                7|                50|\n",
      "|       2542|     m|              2|     39|               10|                50|\n",
      "|      48945|     m|              1|     45|                2|                73|\n",
      "|      58896|     m|              2|     31|                7|                85|\n",
      "|      20379|     f|              1|   null|                5|                59|\n",
      "|      16290|     m|              1|     33|                6|                63|\n",
      "|      73202|     m|              1|     28|                5|                83|\n",
      "|      28911|     m|              1|     32|                5|                54|\n",
      "|      29934|     m|              1|     30|                1|                77|\n",
      "|      49017|     f|              1|     35|             null|                50|\n",
      "|       null|  null|              1|     49|                5|                49|\n",
      "|      38401|     m|              2|     39|               16|              null|\n",
      "|      77040|     m|              1|     37|                7|                84|\n",
      "|      43931|     m|              1|     37|               10|                60|\n",
      "|       7152|     m|           null|     38|                5|                77|\n",
      "|       9403|     m|              1|     34|                4|                51|\n",
      "|      17436|     m|              1|     34|                8|                46|\n",
      "+-----------+------+---------------+-------+-----------------+------------------+\n",
      "\n"
     ]
    }
   ],
   "source": [
    "df_pyspark.show()"
   ]
  },
  {
   "cell_type": "markdown",
   "id": "964fa7ca",
   "metadata": {},
   "source": [
    "# Missing Value Treatment"
   ]
  },
  {
   "cell_type": "code",
   "execution_count": 238,
   "id": "043553cc",
   "metadata": {
    "scrolled": true
   },
   "outputs": [
    {
     "name": "stdout",
     "output_type": "stream",
     "text": [
      "+-----------+------+---------------+-------+-----------------+------------------+\n",
      "|employee_id|gender|no_of_trainings|New_age|length_of_service|avg_training_score|\n",
      "+-----------+------+---------------+-------+-----------------+------------------+\n",
      "|      65438|     f|              1|     35|                8|                49|\n",
      "|      65141|     m|              1|     30|                4|                60|\n",
      "|       7513|     m|              1|     34|                7|                50|\n",
      "|       2542|     m|              2|     39|               10|                50|\n",
      "|      48945|     m|              1|     45|                2|                73|\n",
      "|      58896|     m|              2|     31|                7|                85|\n",
      "|      16290|     m|              1|     33|                6|                63|\n",
      "|      73202|     m|              1|     28|                5|                83|\n",
      "|      28911|     m|              1|     32|                5|                54|\n",
      "|      29934|     m|              1|     30|                1|                77|\n",
      "|      77040|     m|              1|     37|                7|                84|\n",
      "|      43931|     m|              1|     37|               10|                60|\n",
      "|       9403|     m|              1|     34|                4|                51|\n",
      "|      17436|     m|              1|     34|                8|                46|\n",
      "+-----------+------+---------------+-------+-----------------+------------------+\n",
      "\n"
     ]
    }
   ],
   "source": [
    "df_pyspark.na.drop().show()"
   ]
  },
  {
   "cell_type": "code",
   "execution_count": 239,
   "id": "bfcd0ab4",
   "metadata": {
    "scrolled": true
   },
   "outputs": [
    {
     "name": "stdout",
     "output_type": "stream",
     "text": [
      "+-----------+------+---------------+-------+-----------------+------------------+\n",
      "|employee_id|gender|no_of_trainings|New_age|length_of_service|avg_training_score|\n",
      "+-----------+------+---------------+-------+-----------------+------------------+\n",
      "|      65438|     f|              1|     35|                8|                49|\n",
      "|      65141|     m|              1|     30|                4|                60|\n",
      "|       7513|     m|              1|     34|                7|                50|\n",
      "|       2542|     m|              2|     39|               10|                50|\n",
      "|      48945|     m|              1|     45|                2|                73|\n",
      "|      58896|     m|              2|     31|                7|                85|\n",
      "|      16290|     m|              1|     33|                6|                63|\n",
      "|      73202|     m|              1|     28|                5|                83|\n",
      "|      28911|     m|              1|     32|                5|                54|\n",
      "|      29934|     m|              1|     30|                1|                77|\n",
      "|      77040|     m|              1|     37|                7|                84|\n",
      "|      43931|     m|              1|     37|               10|                60|\n",
      "|       9403|     m|              1|     34|                4|                51|\n",
      "|      17436|     m|              1|     34|                8|                46|\n",
      "+-----------+------+---------------+-------+-----------------+------------------+\n",
      "\n"
     ]
    }
   ],
   "source": [
    "#how=any(default) and how=all(drop if all coulumns in a row are null)\n",
    "df_pyspark.na.drop(how=\"any\").show()"
   ]
  },
  {
   "cell_type": "code",
   "execution_count": 240,
   "id": "4adf9f2d",
   "metadata": {
    "scrolled": true
   },
   "outputs": [
    {
     "name": "stdout",
     "output_type": "stream",
     "text": [
      "+-----------+------+---------------+-------+-----------------+------------------+\n",
      "|employee_id|gender|no_of_trainings|New_age|length_of_service|avg_training_score|\n",
      "+-----------+------+---------------+-------+-----------------+------------------+\n",
      "|      65438|     f|              1|     35|                8|                49|\n",
      "|      65141|     m|              1|     30|                4|                60|\n",
      "|       7513|     m|              1|     34|                7|                50|\n",
      "|       2542|     m|              2|     39|               10|                50|\n",
      "|      48945|     m|              1|     45|                2|                73|\n",
      "|      58896|     m|              2|     31|                7|                85|\n",
      "|      20379|     f|              1|   null|                5|                59|\n",
      "|      16290|     m|              1|     33|                6|                63|\n",
      "|      73202|     m|              1|     28|                5|                83|\n",
      "|      28911|     m|              1|     32|                5|                54|\n",
      "|      29934|     m|              1|     30|                1|                77|\n",
      "|      49017|     f|              1|     35|             null|                50|\n",
      "|      38401|     m|              2|     39|               16|              null|\n",
      "|      77040|     m|              1|     37|                7|                84|\n",
      "|      43931|     m|              1|     37|               10|                60|\n",
      "|       7152|     m|           null|     38|                5|                77|\n",
      "|       9403|     m|              1|     34|                4|                51|\n",
      "|      17436|     m|              1|     34|                8|                46|\n",
      "+-----------+------+---------------+-------+-----------------+------------------+\n",
      "\n"
     ]
    }
   ],
   "source": [
    "#threshold in null values\n",
    "df_pyspark.na.drop(how=\"any\",thresh=5).show()"
   ]
  },
  {
   "cell_type": "code",
   "execution_count": 241,
   "id": "44ab4691",
   "metadata": {
    "scrolled": true
   },
   "outputs": [
    {
     "name": "stdout",
     "output_type": "stream",
     "text": [
      "+-----------+------+---------------+-------+-----------------+------------------+\n",
      "|employee_id|gender|no_of_trainings|New_age|length_of_service|avg_training_score|\n",
      "+-----------+------+---------------+-------+-----------------+------------------+\n",
      "|      65438|     f|              1|     35|                8|                49|\n",
      "|      65141|     m|              1|     30|                4|                60|\n",
      "|       7513|     m|              1|     34|                7|                50|\n",
      "|       2542|     m|              2|     39|               10|                50|\n",
      "|      48945|     m|              1|     45|                2|                73|\n",
      "|      58896|     m|              2|     31|                7|                85|\n",
      "|      16290|     m|              1|     33|                6|                63|\n",
      "|      73202|     m|              1|     28|                5|                83|\n",
      "|      28911|     m|              1|     32|                5|                54|\n",
      "|      29934|     m|              1|     30|                1|                77|\n",
      "|      49017|     f|              1|     35|             null|                50|\n",
      "|       null|  null|              1|     49|                5|                49|\n",
      "|      38401|     m|              2|     39|               16|              null|\n",
      "|      77040|     m|              1|     37|                7|                84|\n",
      "|      43931|     m|              1|     37|               10|                60|\n",
      "|       7152|     m|           null|     38|                5|                77|\n",
      "|       9403|     m|              1|     34|                4|                51|\n",
      "|      17436|     m|              1|     34|                8|                46|\n",
      "+-----------+------+---------------+-------+-----------------+------------------+\n",
      "\n"
     ]
    }
   ],
   "source": [
    "#Subset\n",
    "df_pyspark.na.drop(how=\"any\",subset=\"New_age\").show()"
   ]
  },
  {
   "cell_type": "code",
   "execution_count": 242,
   "id": "0949ff1d",
   "metadata": {},
   "outputs": [
    {
     "name": "stdout",
     "output_type": "stream",
     "text": [
      "+-----------+------+---------------+-------+-----------------+------------------+\n",
      "|employee_id|gender|no_of_trainings|New_age|length_of_service|avg_training_score|\n",
      "+-----------+------+---------------+-------+-----------------+------------------+\n",
      "|      65438|     f|              1|     35|                8|                49|\n",
      "|      65141|     m|              1|     30|                4|                60|\n",
      "|       7513|     m|              1|     34|                7|                50|\n",
      "|       2542|     m|              2|     39|               10|                50|\n",
      "|      48945|     m|              1|     45|                2|                73|\n",
      "|      58896|     m|              2|     31|                7|                85|\n",
      "|      20379|     f|              1|   null|                5|                59|\n",
      "|      16290|     m|              1|     33|                6|                63|\n",
      "|      73202|     m|              1|     28|                5|                83|\n",
      "|      28911|     m|              1|     32|                5|                54|\n",
      "|      29934|     m|              1|     30|                1|                77|\n",
      "|      49017|     f|              1|     35|             null|                50|\n",
      "|       null|    NA|              1|     49|                5|                49|\n",
      "|      38401|     m|              2|     39|               16|              null|\n",
      "|      77040|     m|              1|     37|                7|                84|\n",
      "|      43931|     m|              1|     37|               10|                60|\n",
      "|       7152|     m|           null|     38|                5|                77|\n",
      "|       9403|     m|              1|     34|                4|                51|\n",
      "|      17436|     m|              1|     34|                8|                46|\n",
      "+-----------+------+---------------+-------+-----------------+------------------+\n",
      "\n"
     ]
    }
   ],
   "source": [
    "### Filling the Missing Value in all column\n",
    "df_pyspark.na.fill('NA').show()"
   ]
  },
  {
   "cell_type": "code",
   "execution_count": 244,
   "id": "34f4f1a4",
   "metadata": {
    "scrolled": true
   },
   "outputs": [
    {
     "name": "stdout",
     "output_type": "stream",
     "text": [
      "+-----------+--------------+---------------+-------+-----------------+------------------+\n",
      "|employee_id|        gender|no_of_trainings|New_age|length_of_service|avg_training_score|\n",
      "+-----------+--------------+---------------+-------+-----------------+------------------+\n",
      "|      65438|             f|              1|     35|                8|                49|\n",
      "|      65141|             m|              1|     30|                4|                60|\n",
      "|       7513|             m|              1|     34|                7|                50|\n",
      "|       2542|             m|              2|     39|               10|                50|\n",
      "|      48945|             m|              1|     45|                2|                73|\n",
      "|      58896|             m|              2|     31|                7|                85|\n",
      "|      20379|             f|              1|   null|                5|                59|\n",
      "|      16290|             m|              1|     33|                6|                63|\n",
      "|      73202|             m|              1|     28|                5|                83|\n",
      "|      28911|             m|              1|     32|                5|                54|\n",
      "|      29934|             m|              1|     30|                1|                77|\n",
      "|      49017|             f|              1|     35|             null|                50|\n",
      "|       null|Missing Values|              1|     49|                5|                49|\n",
      "|      38401|             m|              2|     39|               16|              null|\n",
      "|      77040|             m|              1|     37|                7|                84|\n",
      "|      43931|             m|              1|     37|               10|                60|\n",
      "|       7152|             m|           null|     38|                5|                77|\n",
      "|       9403|             m|              1|     34|                4|                51|\n",
      "|      17436|             m|              1|     34|                8|                46|\n",
      "+-----------+--------------+---------------+-------+-----------------+------------------+\n",
      "\n"
     ]
    }
   ],
   "source": [
    "### Filling the Missing Value in specific column #??why not changing integer column null values??\n",
    "df_pyspark.na.fill('Missing Values',['gender','New_age']).show()"
   ]
  },
  {
   "cell_type": "code",
   "execution_count": 248,
   "id": "8f92c9ef",
   "metadata": {
    "scrolled": true
   },
   "outputs": [
    {
     "name": "stdout",
     "output_type": "stream",
     "text": [
      "+-----------+-------+---------------+-------+-----------------+------------------+\n",
      "|employee_id| gender|no_of_trainings|New_age|length_of_service|avg_training_score|\n",
      "+-----------+-------+---------------+-------+-----------------+------------------+\n",
      "|      65438|      f|              1|     35|                8|                49|\n",
      "|      65141|      m|              1|     30|                4|                60|\n",
      "|       7513|      m|              1|     34|                7|                50|\n",
      "|       2542|      m|              2|     39|               10|                50|\n",
      "|      48945|      m|              1|     45|                2|                73|\n",
      "|      58896|      m|              2|     31|                7|                85|\n",
      "|      20379|      f|              1|      0|                5|                59|\n",
      "|      16290|      m|              1|     33|                6|                63|\n",
      "|      73202|      m|              1|     28|                5|                83|\n",
      "|      28911|      m|              1|     32|                5|                54|\n",
      "|      29934|      m|              1|     30|                1|                77|\n",
      "|      49017|      f|              1|     35|             null|                50|\n",
      "|       null|unknown|              1|     49|                5|                49|\n",
      "|      38401|      m|              2|     39|               16|                 0|\n",
      "|      77040|      m|              1|     37|                7|                84|\n",
      "|      43931|      m|              1|     37|               10|                60|\n",
      "|       7152|      m|           null|     38|                5|                77|\n",
      "|       9403|      m|              1|     34|                4|                51|\n",
      "|      17436|      m|              1|     34|                8|                46|\n",
      "+-----------+-------+---------------+-------+-----------------+------------------+\n",
      "\n"
     ]
    }
   ],
   "source": [
    "#integer column values can be iputed with integer value and string with string \n",
    "df_pyspark.na.fill({\"gender\": \"unknown\", \"New_age\": \"00\", \"avg_training_score\":\"00\"}).show()\n"
   ]
  },
  {
   "cell_type": "code",
   "execution_count": 249,
   "id": "9dfd7c18",
   "metadata": {},
   "outputs": [],
   "source": [
    "from pyspark.ml.feature import Imputer\n",
    "\n",
    "imputer = Imputer(\n",
    "    inputCols=['New_age', 'avg_training_score', 'length_of_service'], \n",
    "    outputCols=[\"{}_imputed\".format(c) for c in ['New_age', 'avg_training_score', 'length_of_service']]\n",
    "    ).setStrategy(\"mean\")"
   ]
  },
  {
   "cell_type": "code",
   "execution_count": 250,
   "id": "1acf63ef",
   "metadata": {
    "scrolled": true
   },
   "outputs": [
    {
     "name": "stdout",
     "output_type": "stream",
     "text": [
      "+-----------+------+---------------+-------+-----------------+------------------+---------------+--------------------------+-------------------------+\n",
      "|employee_id|gender|no_of_trainings|New_age|length_of_service|avg_training_score|New_age_imputed|avg_training_score_imputed|length_of_service_imputed|\n",
      "+-----------+------+---------------+-------+-----------------+------------------+---------------+--------------------------+-------------------------+\n",
      "|      65438|     f|              1|     35|                8|                49|             35|                        49|                        8|\n",
      "|      65141|     m|              1|     30|                4|                60|             30|                        60|                        4|\n",
      "|       7513|     m|              1|     34|                7|                50|             34|                        50|                        7|\n",
      "|       2542|     m|              2|     39|               10|                50|             39|                        50|                       10|\n",
      "|      48945|     m|              1|     45|                2|                73|             45|                        73|                        2|\n",
      "|      58896|     m|              2|     31|                7|                85|             31|                        85|                        7|\n",
      "|      20379|     f|              1|   null|                5|                59|             35|                        59|                        5|\n",
      "|      16290|     m|              1|     33|                6|                63|             33|                        63|                        6|\n",
      "|      73202|     m|              1|     28|                5|                83|             28|                        83|                        5|\n",
      "|      28911|     m|              1|     32|                5|                54|             32|                        54|                        5|\n",
      "|      29934|     m|              1|     30|                1|                77|             30|                        77|                        1|\n",
      "|      49017|     f|              1|     35|             null|                50|             35|                        50|                        6|\n",
      "|       null|  null|              1|     49|                5|                49|             49|                        49|                        5|\n",
      "|      38401|     m|              2|     39|               16|              null|             39|                        62|                       16|\n",
      "|      77040|     m|              1|     37|                7|                84|             37|                        84|                        7|\n",
      "|      43931|     m|              1|     37|               10|                60|             37|                        60|                       10|\n",
      "|       7152|     m|           null|     38|                5|                77|             38|                        77|                        5|\n",
      "|       9403|     m|              1|     34|                4|                51|             34|                        51|                        4|\n",
      "|      17436|     m|              1|     34|                8|                46|             34|                        46|                        8|\n",
      "+-----------+------+---------------+-------+-----------------+------------------+---------------+--------------------------+-------------------------+\n",
      "\n"
     ]
    }
   ],
   "source": [
    "# Add imputation cols to df\n",
    "imputer.fit(df_pyspark).transform(df_pyspark).show()"
   ]
  },
  {
   "cell_type": "markdown",
   "id": "1b8f5b91",
   "metadata": {},
   "source": [
    "# Filter Operations"
   ]
  },
  {
   "cell_type": "code",
   "execution_count": null,
   "id": "f34cb977",
   "metadata": {},
   "outputs": [],
   "source": [
    "#employees Avg training score less than 50"
   ]
  },
  {
   "cell_type": "code",
   "execution_count": 251,
   "id": "e5cee383",
   "metadata": {},
   "outputs": [
    {
     "name": "stdout",
     "output_type": "stream",
     "text": [
      "+-----------+------+---------------+-------+-----------------+------------------+\n",
      "|employee_id|gender|no_of_trainings|New_age|length_of_service|avg_training_score|\n",
      "+-----------+------+---------------+-------+-----------------+------------------+\n",
      "|      65438|     f|              1|     35|                8|                49|\n",
      "|       7513|     m|              1|     34|                7|                50|\n",
      "|       2542|     m|              2|     39|               10|                50|\n",
      "|      49017|     f|              1|     35|             null|                50|\n",
      "|       null|  null|              1|     49|                5|                49|\n",
      "|      17436|     m|              1|     34|                8|                46|\n",
      "+-----------+------+---------------+-------+-----------------+------------------+\n",
      "\n"
     ]
    }
   ],
   "source": [
    "### Salary of the people less than or equal to 20000\n",
    "df_pyspark.filter(\"avg_training_score<=50\").show()"
   ]
  },
  {
   "cell_type": "code",
   "execution_count": 254,
   "id": "23f4450b",
   "metadata": {},
   "outputs": [
    {
     "name": "stdout",
     "output_type": "stream",
     "text": [
      "+-----------+------+---------------+-------+-----------------+------------------+\n",
      "|employee_id|gender|no_of_trainings|New_age|length_of_service|avg_training_score|\n",
      "+-----------+------+---------------+-------+-----------------+------------------+\n",
      "|      65438|     f|              1|     35|                8|                49|\n",
      "|      20379|     f|              1|   null|                5|                59|\n",
      "|      49017|     f|              1|     35|             null|                50|\n",
      "+-----------+------+---------------+-------+-----------------+------------------+\n",
      "\n"
     ]
    }
   ],
   "source": [
    "df_pyspark.filter(\"avg_training_score<=50\" and \"gender=='f'\").show()"
   ]
  },
  {
   "cell_type": "code",
   "execution_count": 255,
   "id": "e20d9920",
   "metadata": {
    "scrolled": true
   },
   "outputs": [
    {
     "name": "stdout",
     "output_type": "stream",
     "text": [
      "+-----------+------------------+\n",
      "|employee_id|avg_training_score|\n",
      "+-----------+------------------+\n",
      "|      65438|                49|\n",
      "|      20379|                59|\n",
      "|      49017|                50|\n",
      "+-----------+------------------+\n",
      "\n"
     ]
    }
   ],
   "source": [
    "df_pyspark.filter(\"avg_training_score<=50\" and \"gender=='f'\").select(['employee_id','avg_training_score']).show()"
   ]
  },
  {
   "cell_type": "code",
   "execution_count": 258,
   "id": "0fc032fb",
   "metadata": {},
   "outputs": [
    {
     "name": "stdout",
     "output_type": "stream",
     "text": [
      "+-----------+------+---------------+-------+-----------------+------------------+\n",
      "|employee_id|gender|no_of_trainings|New_age|length_of_service|avg_training_score|\n",
      "+-----------+------+---------------+-------+-----------------+------------------+\n",
      "|      65438|     f|              1|     35|                8|                49|\n",
      "|       7513|     m|              1|     34|                7|                50|\n",
      "|       2542|     m|              2|     39|               10|                50|\n",
      "|      49017|     f|              1|     35|             null|                50|\n",
      "|       null|  null|              1|     49|                5|                49|\n",
      "|      17436|     m|              1|     34|                8|                46|\n",
      "+-----------+------+---------------+-------+-----------------+------------------+\n",
      "\n"
     ]
    }
   ],
   "source": [
    "#another way to show \n",
    "df_pyspark.filter((df_pyspark[\"avg_training_score\"]<=50)).show()"
   ]
  },
  {
   "cell_type": "code",
   "execution_count": 257,
   "id": "338f8164",
   "metadata": {},
   "outputs": [
    {
     "name": "stdout",
     "output_type": "stream",
     "text": [
      "+-----------+------+---------------+-------+-----------------+------------------+\n",
      "|employee_id|gender|no_of_trainings|New_age|length_of_service|avg_training_score|\n",
      "+-----------+------+---------------+-------+-----------------+------------------+\n",
      "|      65141|     m|              1|     30|                4|                60|\n",
      "|      48945|     m|              1|     45|                2|                73|\n",
      "|      58896|     m|              2|     31|                7|                85|\n",
      "|      20379|     f|              1|   null|                5|                59|\n",
      "|      16290|     m|              1|     33|                6|                63|\n",
      "|      73202|     m|              1|     28|                5|                83|\n",
      "|      28911|     m|              1|     32|                5|                54|\n",
      "|      29934|     m|              1|     30|                1|                77|\n",
      "|      77040|     m|              1|     37|                7|                84|\n",
      "|      43931|     m|              1|     37|               10|                60|\n",
      "|       7152|     m|           null|     38|                5|                77|\n",
      "|       9403|     m|              1|     34|                4|                51|\n",
      "+-----------+------+---------------+-------+-----------------+------------------+\n",
      "\n"
     ]
    }
   ],
   "source": [
    "#Inverse filter operation for above command\n",
    "df_pyspark.filter(~(df_pyspark[\"avg_training_score\"]<=50)).show()"
   ]
  },
  {
   "cell_type": "markdown",
   "id": "04d46afb",
   "metadata": {},
   "source": [
    "# Group by Clause"
   ]
  },
  {
   "cell_type": "code",
   "execution_count": 260,
   "id": "bce6d0d4",
   "metadata": {
    "scrolled": true
   },
   "outputs": [
    {
     "name": "stdout",
     "output_type": "stream",
     "text": [
      "+------+------------------+--------------------+------------------+----------------------+-----------------------+\n",
      "|gender|  avg(employee_id)|avg(no_of_trainings)|      avg(New_age)|avg(length_of_service)|avg(avg_training_score)|\n",
      "+------+------------------+--------------------+------------------+----------------------+-----------------------+\n",
      "|     m| 34982.46666666667|  1.2142857142857142|34.733333333333334|     6.466666666666667|      65.21428571428571|\n",
      "|  null|              null|                 1.0|              49.0|                   5.0|                   49.0|\n",
      "|     f|44944.666666666664|                 1.0|              35.0|                   6.5|     52.666666666666664|\n",
      "+------+------------------+--------------------+------------------+----------------------+-----------------------+\n",
      "\n"
     ]
    }
   ],
   "source": [
    "## Groupby\n",
    "### Grouped to find the maximum salary\n",
    "df_pyspark.groupBy('gender').avg().show()\n",
    "#avg() and mean() in same\n",
    "#one can use count(), sum() similarly"
   ]
  },
  {
   "cell_type": "code",
   "execution_count": 267,
   "id": "fb8a9e84",
   "metadata": {
    "scrolled": true
   },
   "outputs": [
    {
     "name": "stdout",
     "output_type": "stream",
     "text": [
      "+------+------------------+--------------------+------------------+----------------------+-----------------------+\n",
      "|gender|  avg(employee_id)|avg(no_of_trainings)|      avg(New_age)|avg(length_of_service)|avg(avg_training_score)|\n",
      "+------+------------------+--------------------+------------------+----------------------+-----------------------+\n",
      "|     m| 34982.46666666667|  1.2142857142857142|34.733333333333334|     6.466666666666667|      65.21428571428571|\n",
      "|  null|              null|                 1.0|              49.0|                   5.0|                   49.0|\n",
      "|     f|44944.666666666664|                 1.0|              35.0|                   6.5|     52.666666666666664|\n",
      "+------+------------------+--------------------+------------------+----------------------+-----------------------+\n",
      "\n"
     ]
    }
   ],
   "source": [
    "df_pyspark.groupBy('gender').mean().show()"
   ]
  },
  {
   "cell_type": "code",
   "execution_count": 266,
   "id": "c847450d",
   "metadata": {},
   "outputs": [
    {
     "name": "stdout",
     "output_type": "stream",
     "text": [
      "+----------------------+\n",
      "|sum(length_of_service)|\n",
      "+----------------------+\n",
      "|                   115|\n",
      "+----------------------+\n",
      "\n"
     ]
    }
   ],
   "source": [
    "df_pyspark.agg({'length_of_service':'sum'}).show()"
   ]
  },
  {
   "cell_type": "code",
   "execution_count": null,
   "id": "b8d8c484",
   "metadata": {},
   "outputs": [],
   "source": []
  },
  {
   "cell_type": "code",
   "execution_count": null,
   "id": "faf7de92",
   "metadata": {},
   "outputs": [],
   "source": []
  },
  {
   "cell_type": "code",
   "execution_count": null,
   "id": "0b2ca564",
   "metadata": {},
   "outputs": [],
   "source": []
  },
  {
   "cell_type": "code",
   "execution_count": null,
   "id": "0064ec12",
   "metadata": {},
   "outputs": [],
   "source": []
  }
 ],
 "metadata": {
  "kernelspec": {
   "display_name": "Python 3 (ipykernel)",
   "language": "python",
   "name": "python3"
  },
  "language_info": {
   "codemirror_mode": {
    "name": "ipython",
    "version": 3
   },
   "file_extension": ".py",
   "mimetype": "text/x-python",
   "name": "python",
   "nbconvert_exporter": "python",
   "pygments_lexer": "ipython3",
   "version": "3.8.8"
  }
 },
 "nbformat": 4,
 "nbformat_minor": 5
}
